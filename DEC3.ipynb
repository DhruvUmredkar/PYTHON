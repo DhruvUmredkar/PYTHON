{
 "cells": [
  {
   "cell_type": "code",
   "execution_count": 1,
   "id": "4f1420de",
   "metadata": {},
   "outputs": [
    {
     "name": "stdout",
     "output_type": "stream",
     "text": [
      "Hello World\n"
     ]
    }
   ],
   "source": [
    "print(\"Hello World\")"
   ]
  },
  {
   "cell_type": "code",
   "execution_count": 3,
   "id": "2032829c",
   "metadata": {},
   "outputs": [
    {
     "name": "stdout",
     "output_type": "stream",
     "text": [
      "Dhruv Umredkar\n"
     ]
    }
   ],
   "source": [
    "print(\"Dhruv Umredkar\")"
   ]
  },
  {
   "cell_type": "code",
   "execution_count": 10,
   "id": "9c459df0",
   "metadata": {},
   "outputs": [
    {
     "ename": "NameError",
     "evalue": "name 'Print' is not defined",
     "output_type": "error",
     "traceback": [
      "\u001b[1;31m---------------------------------------------------------------------------\u001b[0m",
      "\u001b[1;31mNameError\u001b[0m                                 Traceback (most recent call last)",
      "\u001b[1;32mC:\\Users\\SHRADD~1\\AppData\\Local\\Temp/ipykernel_17684/244804411.py\u001b[0m in \u001b[0;36m<module>\u001b[1;34m\u001b[0m\n\u001b[1;32m----> 1\u001b[1;33m \u001b[0mPrint\u001b[0m\u001b[1;33m(\u001b[0m\u001b[1;34m\"Hello\"\u001b[0m\u001b[1;33m)\u001b[0m\u001b[1;33m\u001b[0m\u001b[1;33m\u001b[0m\u001b[0m\n\u001b[0m",
      "\u001b[1;31mNameError\u001b[0m: name 'Print' is not defined"
     ]
    }
   ],
   "source": [
    "Print(\"Hello\")"
   ]
  },
  {
   "cell_type": "markdown",
   "id": "a554ef50",
   "metadata": {},
   "source": [
    "# Python is case sensitive"
   ]
  },
  {
   "cell_type": "markdown",
   "id": "28915bc4",
   "metadata": {},
   "source": [
    "#### This keeps on decreasing the font size"
   ]
  },
  {
   "cell_type": "code",
   "execution_count": 7,
   "id": "0fc227f8",
   "metadata": {},
   "outputs": [
    {
     "ename": "NameError",
     "evalue": "name 'dhruv' is not defined",
     "output_type": "error",
     "traceback": [
      "\u001b[1;31m---------------------------------------------------------------------------\u001b[0m",
      "\u001b[1;31mNameError\u001b[0m                                 Traceback (most recent call last)",
      "\u001b[1;32mC:\\Users\\SHRADD~1\\AppData\\Local\\Temp/ipykernel_17684/3352615549.py\u001b[0m in \u001b[0;36m<module>\u001b[1;34m\u001b[0m\n\u001b[1;32m----> 1\u001b[1;33m \u001b[0mprint\u001b[0m\u001b[1;33m(\u001b[0m\u001b[0mdhruv\u001b[0m\u001b[1;33m)\u001b[0m\u001b[1;33m\u001b[0m\u001b[1;33m\u001b[0m\u001b[0m\n\u001b[0m",
      "\u001b[1;31mNameError\u001b[0m: name 'dhruv' is not defined"
     ]
    }
   ],
   "source": [
    "print(dhruv)"
   ]
  },
  {
   "cell_type": "markdown",
   "id": "648ab79a",
   "metadata": {},
   "source": [
    "## String should in inverted comma"
   ]
  },
  {
   "cell_type": "code",
   "execution_count": 9,
   "id": "f3d8406b",
   "metadata": {},
   "outputs": [
    {
     "name": "stdout",
     "output_type": "stream",
     "text": [
      "10\n"
     ]
    }
   ],
   "source": [
    "print(10)"
   ]
  },
  {
   "cell_type": "code",
   "execution_count": 11,
   "id": "76d2d10f",
   "metadata": {},
   "outputs": [
    {
     "name": "stdout",
     "output_type": "stream",
     "text": [
      "dhruv\n"
     ]
    }
   ],
   "source": [
    "print('dhruv')"
   ]
  },
  {
   "cell_type": "markdown",
   "id": "c4e065c9",
   "metadata": {},
   "source": [
    "# Short cut key"
   ]
  },
  {
   "cell_type": "markdown",
   "id": "1e969223",
   "metadata": {},
   "source": [
    "# Data type"
   ]
  },
  {
   "cell_type": "code",
   "execution_count": 12,
   "id": "9efdf83d",
   "metadata": {},
   "outputs": [
    {
     "data": {
      "text/plain": [
       "int"
      ]
     },
     "execution_count": 12,
     "metadata": {},
     "output_type": "execute_result"
    }
   ],
   "source": [
    "x=10\n",
    "type(x)"
   ]
  },
  {
   "cell_type": "code",
   "execution_count": 13,
   "id": "246e598a",
   "metadata": {},
   "outputs": [
    {
     "data": {
      "text/plain": [
       "float"
      ]
     },
     "execution_count": 13,
     "metadata": {},
     "output_type": "execute_result"
    }
   ],
   "source": [
    "x=10.11\n",
    "type(x)"
   ]
  },
  {
   "cell_type": "code",
   "execution_count": 14,
   "id": "244a8480",
   "metadata": {},
   "outputs": [
    {
     "data": {
      "text/plain": [
       "str"
      ]
     },
     "execution_count": 14,
     "metadata": {},
     "output_type": "execute_result"
    }
   ],
   "source": [
    "x=\"data\"\n",
    "type(x)"
   ]
  },
  {
   "cell_type": "markdown",
   "id": "81182c7e",
   "metadata": {},
   "source": [
    "# Spaces is not allowed"
   ]
  },
  {
   "cell_type": "code",
   "execution_count": 24,
   "id": "9e2a615b",
   "metadata": {},
   "outputs": [
    {
     "data": {
      "text/plain": [
       "('DS', 'ML')"
      ]
     },
     "execution_count": 24,
     "metadata": {},
     "output_type": "execute_result"
    }
   ],
   "source": [
    "coursename =\"DS\",\"ML\"\n",
    "coursename"
   ]
  },
  {
   "cell_type": "code",
   "execution_count": 25,
   "id": "645a58d2",
   "metadata": {},
   "outputs": [
    {
     "data": {
      "text/plain": [
       "('DS', 'ML')"
      ]
     },
     "execution_count": 25,
     "metadata": {},
     "output_type": "execute_result"
    }
   ],
   "source": [
    "course_name =\"DS\",\"ML\"\n",
    "course_name"
   ]
  },
  {
   "cell_type": "markdown",
   "id": "6df2eb69",
   "metadata": {},
   "source": [
    "# ONLY ALLOWED SPECIAL CHAR IS _"
   ]
  },
  {
   "cell_type": "markdown",
   "id": "976bf73a",
   "metadata": {},
   "source": [
    "# Vairiable name should not start with a number"
   ]
  },
  {
   "cell_type": "markdown",
   "id": "7c4ccf05",
   "metadata": {},
   "source": [
    "# It should start with A-Z, a-z or _"
   ]
  },
  {
   "cell_type": "code",
   "execution_count": null,
   "id": "fa41cd01",
   "metadata": {},
   "outputs": [],
   "source": []
  }
 ],
 "metadata": {
  "kernelspec": {
   "display_name": "Python 3 (ipykernel)",
   "language": "python",
   "name": "python3"
  },
  "language_info": {
   "codemirror_mode": {
    "name": "ipython",
    "version": 3
   },
   "file_extension": ".py",
   "mimetype": "text/x-python",
   "name": "python",
   "nbconvert_exporter": "python",
   "pygments_lexer": "ipython3",
   "version": "3.9.7"
  }
 },
 "nbformat": 4,
 "nbformat_minor": 5
}
